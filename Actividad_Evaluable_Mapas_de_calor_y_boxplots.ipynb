{
  "nbformat": 4,
  "nbformat_minor": 0,
  "metadata": {
    "colab": {
      "provenance": []
    },
    "kernelspec": {
      "name": "python3",
      "display_name": "Python 3"
    },
    "language_info": {
      "name": "python"
    }
  },
  "cells": [
    {
      "cell_type": "markdown",
      "source": [
        "#Actividad evaluable: Mapas de calor y boxplots"
      ],
      "metadata": {
        "id": "bYBDibhKQhAo"
      }
    },
    {
      "cell_type": "markdown",
      "source": [
        "1.- Importamos todas las librerias a utilizar\n"
      ],
      "metadata": {
        "id": "zz621aCHPqMz"
      }
    },
    {
      "cell_type": "code",
      "execution_count": null,
      "metadata": {
        "id": "-9eSsINK76LF"
      },
      "outputs": [],
      "source": [
        "import matplotlib.pyplot as plt\n",
        "import pandas as pd\n",
        "import matplotlib.pyplot as plt\n",
        "import seaborn as sns\n",
        "import numpy as np\n",
        "#!pip install category_encoders\n",
        "from category_encoders import OrdinalEncoder"
      ]
    },
    {
      "cell_type": "markdown",
      "source": [
        "2.- Definimos nuestro DF para analizar la estructura visualmente y las variables a analizar"
      ],
      "metadata": {
        "id": "sHFRqEvkRXf7"
      }
    },
    {
      "cell_type": "code",
      "source": [
        "df = pd.read_csv('MST_PRESENTTAX.csv')\n",
        "df.head()"
      ],
      "metadata": {
        "colab": {
          "base_uri": "https://localhost:8080/",
          "height": 444
        },
        "id": "gtLw6Xv97_4Y",
        "outputId": "1b1a9c5d-dcd2-46e5-b41e-a8397997ad72"
      },
      "execution_count": null,
      "outputs": [
        {
          "output_type": "execute_result",
          "data": {
            "text/plain": [
              "   PTAXID  COMPANYID  BRANCHID  CLIENTID                 DATE    VAT  \\\n",
              "0       1       1000         1         2  2017-11-30 00:00:00    0.0   \n",
              "1       2       1000         1         2  2017-12-31 00:00:00  923.0   \n",
              "2       3       1000         1         4  2017-12-31 00:00:00  810.0   \n",
              "3       4       1000         1         3  2017-12-31 00:00:00    0.0   \n",
              "4       5       1000         1        21  2017-12-31 00:00:00  647.0   \n",
              "\n",
              "   INCOMETAX  DELETESTATUS  CREATEDBY             CREATEDDATETIME  MODIFIEDBY  \\\n",
              "0        0.0         False          1  2018-01-11 22:11:04.360000         NaN   \n",
              "1     1946.0         False          1  2018-01-19 01:22:51.193000         NaN   \n",
              "2        0.0         False          1  2018-01-19 17:28:26.827000         1.0   \n",
              "3      303.0         False          1  2018-01-20 03:35:28.150000         1.0   \n",
              "4        0.0         False          1  2018-01-20 03:55:35.613000         NaN   \n",
              "\n",
              "             MODIFIEDDATETIME  \n",
              "0                         NaN  \n",
              "1                         NaN  \n",
              "2  2018-02-07 11:05:21.360000  \n",
              "3  2018-01-22 23:26:35.610000  \n",
              "4                         NaN  "
            ],
            "text/html": [
              "\n",
              "  <div id=\"df-788bb77f-b216-44a9-9372-b7fd0209b618\">\n",
              "    <div class=\"colab-df-container\">\n",
              "      <div>\n",
              "<style scoped>\n",
              "    .dataframe tbody tr th:only-of-type {\n",
              "        vertical-align: middle;\n",
              "    }\n",
              "\n",
              "    .dataframe tbody tr th {\n",
              "        vertical-align: top;\n",
              "    }\n",
              "\n",
              "    .dataframe thead th {\n",
              "        text-align: right;\n",
              "    }\n",
              "</style>\n",
              "<table border=\"1\" class=\"dataframe\">\n",
              "  <thead>\n",
              "    <tr style=\"text-align: right;\">\n",
              "      <th></th>\n",
              "      <th>PTAXID</th>\n",
              "      <th>COMPANYID</th>\n",
              "      <th>BRANCHID</th>\n",
              "      <th>CLIENTID</th>\n",
              "      <th>DATE</th>\n",
              "      <th>VAT</th>\n",
              "      <th>INCOMETAX</th>\n",
              "      <th>DELETESTATUS</th>\n",
              "      <th>CREATEDBY</th>\n",
              "      <th>CREATEDDATETIME</th>\n",
              "      <th>MODIFIEDBY</th>\n",
              "      <th>MODIFIEDDATETIME</th>\n",
              "    </tr>\n",
              "  </thead>\n",
              "  <tbody>\n",
              "    <tr>\n",
              "      <th>0</th>\n",
              "      <td>1</td>\n",
              "      <td>1000</td>\n",
              "      <td>1</td>\n",
              "      <td>2</td>\n",
              "      <td>2017-11-30 00:00:00</td>\n",
              "      <td>0.0</td>\n",
              "      <td>0.0</td>\n",
              "      <td>False</td>\n",
              "      <td>1</td>\n",
              "      <td>2018-01-11 22:11:04.360000</td>\n",
              "      <td>NaN</td>\n",
              "      <td>NaN</td>\n",
              "    </tr>\n",
              "    <tr>\n",
              "      <th>1</th>\n",
              "      <td>2</td>\n",
              "      <td>1000</td>\n",
              "      <td>1</td>\n",
              "      <td>2</td>\n",
              "      <td>2017-12-31 00:00:00</td>\n",
              "      <td>923.0</td>\n",
              "      <td>1946.0</td>\n",
              "      <td>False</td>\n",
              "      <td>1</td>\n",
              "      <td>2018-01-19 01:22:51.193000</td>\n",
              "      <td>NaN</td>\n",
              "      <td>NaN</td>\n",
              "    </tr>\n",
              "    <tr>\n",
              "      <th>2</th>\n",
              "      <td>3</td>\n",
              "      <td>1000</td>\n",
              "      <td>1</td>\n",
              "      <td>4</td>\n",
              "      <td>2017-12-31 00:00:00</td>\n",
              "      <td>810.0</td>\n",
              "      <td>0.0</td>\n",
              "      <td>False</td>\n",
              "      <td>1</td>\n",
              "      <td>2018-01-19 17:28:26.827000</td>\n",
              "      <td>1.0</td>\n",
              "      <td>2018-02-07 11:05:21.360000</td>\n",
              "    </tr>\n",
              "    <tr>\n",
              "      <th>3</th>\n",
              "      <td>4</td>\n",
              "      <td>1000</td>\n",
              "      <td>1</td>\n",
              "      <td>3</td>\n",
              "      <td>2017-12-31 00:00:00</td>\n",
              "      <td>0.0</td>\n",
              "      <td>303.0</td>\n",
              "      <td>False</td>\n",
              "      <td>1</td>\n",
              "      <td>2018-01-20 03:35:28.150000</td>\n",
              "      <td>1.0</td>\n",
              "      <td>2018-01-22 23:26:35.610000</td>\n",
              "    </tr>\n",
              "    <tr>\n",
              "      <th>4</th>\n",
              "      <td>5</td>\n",
              "      <td>1000</td>\n",
              "      <td>1</td>\n",
              "      <td>21</td>\n",
              "      <td>2017-12-31 00:00:00</td>\n",
              "      <td>647.0</td>\n",
              "      <td>0.0</td>\n",
              "      <td>False</td>\n",
              "      <td>1</td>\n",
              "      <td>2018-01-20 03:55:35.613000</td>\n",
              "      <td>NaN</td>\n",
              "      <td>NaN</td>\n",
              "    </tr>\n",
              "  </tbody>\n",
              "</table>\n",
              "</div>\n",
              "      <button class=\"colab-df-convert\" onclick=\"convertToInteractive('df-788bb77f-b216-44a9-9372-b7fd0209b618')\"\n",
              "              title=\"Convert this dataframe to an interactive table.\"\n",
              "              style=\"display:none;\">\n",
              "        \n",
              "  <svg xmlns=\"http://www.w3.org/2000/svg\" height=\"24px\"viewBox=\"0 0 24 24\"\n",
              "       width=\"24px\">\n",
              "    <path d=\"M0 0h24v24H0V0z\" fill=\"none\"/>\n",
              "    <path d=\"M18.56 5.44l.94 2.06.94-2.06 2.06-.94-2.06-.94-.94-2.06-.94 2.06-2.06.94zm-11 1L8.5 8.5l.94-2.06 2.06-.94-2.06-.94L8.5 2.5l-.94 2.06-2.06.94zm10 10l.94 2.06.94-2.06 2.06-.94-2.06-.94-.94-2.06-.94 2.06-2.06.94z\"/><path d=\"M17.41 7.96l-1.37-1.37c-.4-.4-.92-.59-1.43-.59-.52 0-1.04.2-1.43.59L10.3 9.45l-7.72 7.72c-.78.78-.78 2.05 0 2.83L4 21.41c.39.39.9.59 1.41.59.51 0 1.02-.2 1.41-.59l7.78-7.78 2.81-2.81c.8-.78.8-2.07 0-2.86zM5.41 20L4 18.59l7.72-7.72 1.47 1.35L5.41 20z\"/>\n",
              "  </svg>\n",
              "      </button>\n",
              "      \n",
              "  <style>\n",
              "    .colab-df-container {\n",
              "      display:flex;\n",
              "      flex-wrap:wrap;\n",
              "      gap: 12px;\n",
              "    }\n",
              "\n",
              "    .colab-df-convert {\n",
              "      background-color: #E8F0FE;\n",
              "      border: none;\n",
              "      border-radius: 50%;\n",
              "      cursor: pointer;\n",
              "      display: none;\n",
              "      fill: #1967D2;\n",
              "      height: 32px;\n",
              "      padding: 0 0 0 0;\n",
              "      width: 32px;\n",
              "    }\n",
              "\n",
              "    .colab-df-convert:hover {\n",
              "      background-color: #E2EBFA;\n",
              "      box-shadow: 0px 1px 2px rgba(60, 64, 67, 0.3), 0px 1px 3px 1px rgba(60, 64, 67, 0.15);\n",
              "      fill: #174EA6;\n",
              "    }\n",
              "\n",
              "    [theme=dark] .colab-df-convert {\n",
              "      background-color: #3B4455;\n",
              "      fill: #D2E3FC;\n",
              "    }\n",
              "\n",
              "    [theme=dark] .colab-df-convert:hover {\n",
              "      background-color: #434B5C;\n",
              "      box-shadow: 0px 1px 3px 1px rgba(0, 0, 0, 0.15);\n",
              "      filter: drop-shadow(0px 1px 2px rgba(0, 0, 0, 0.3));\n",
              "      fill: #FFFFFF;\n",
              "    }\n",
              "  </style>\n",
              "\n",
              "      <script>\n",
              "        const buttonEl =\n",
              "          document.querySelector('#df-788bb77f-b216-44a9-9372-b7fd0209b618 button.colab-df-convert');\n",
              "        buttonEl.style.display =\n",
              "          google.colab.kernel.accessAllowed ? 'block' : 'none';\n",
              "\n",
              "        async function convertToInteractive(key) {\n",
              "          const element = document.querySelector('#df-788bb77f-b216-44a9-9372-b7fd0209b618');\n",
              "          const dataTable =\n",
              "            await google.colab.kernel.invokeFunction('convertToInteractive',\n",
              "                                                     [key], {});\n",
              "          if (!dataTable) return;\n",
              "\n",
              "          const docLinkHtml = 'Like what you see? Visit the ' +\n",
              "            '<a target=\"_blank\" href=https://colab.research.google.com/notebooks/data_table.ipynb>data table notebook</a>'\n",
              "            + ' to learn more about interactive tables.';\n",
              "          element.innerHTML = '';\n",
              "          dataTable['output_type'] = 'display_data';\n",
              "          await google.colab.output.renderOutput(dataTable, element);\n",
              "          const docLink = document.createElement('div');\n",
              "          docLink.innerHTML = docLinkHtml;\n",
              "          element.appendChild(docLink);\n",
              "        }\n",
              "      </script>\n",
              "    </div>\n",
              "  </div>\n",
              "  "
            ]
          },
          "metadata": {},
          "execution_count": 22
        }
      ]
    },
    {
      "cell_type": "markdown",
      "source": [
        "3.- A continuación se realizó una revisión de los datos presentes en las columnas para entender cúantos de los datos que contenían eran únicos (para saber su naturaleza, y así, su utilidad)\n"
      ],
      "metadata": {
        "id": "RtXbsAPID6F-"
      }
    },
    {
      "cell_type": "code",
      "source": [
        "df['COMPANYID'].unique()"
      ],
      "metadata": {
        "colab": {
          "base_uri": "https://localhost:8080/"
        },
        "id": "sbdzSh7gBvRX",
        "outputId": "3be653e3-3774-47b8-96fd-28bd968bbd52"
      },
      "execution_count": null,
      "outputs": [
        {
          "output_type": "execute_result",
          "data": {
            "text/plain": [
              "array([1000])"
            ]
          },
          "metadata": {},
          "execution_count": 23
        }
      ]
    },
    {
      "cell_type": "code",
      "source": [
        "df['BRANCHID'].unique()"
      ],
      "metadata": {
        "colab": {
          "base_uri": "https://localhost:8080/"
        },
        "id": "_BLX_1F4B82j",
        "outputId": "407e7e1d-36f8-48a5-b2d1-42046755afa2"
      },
      "execution_count": null,
      "outputs": [
        {
          "output_type": "execute_result",
          "data": {
            "text/plain": [
              "array([1])"
            ]
          },
          "metadata": {},
          "execution_count": 24
        }
      ]
    },
    {
      "cell_type": "code",
      "source": [
        "df['DELETESTATUS'].unique()"
      ],
      "metadata": {
        "colab": {
          "base_uri": "https://localhost:8080/"
        },
        "id": "P-9_Cu5oCANU",
        "outputId": "33370cd1-c843-4be6-8cbd-db826ab0edee"
      },
      "execution_count": null,
      "outputs": [
        {
          "output_type": "execute_result",
          "data": {
            "text/plain": [
              "array([False])"
            ]
          },
          "metadata": {},
          "execution_count": 25
        }
      ]
    },
    {
      "cell_type": "code",
      "source": [
        "df['CREATEDBY'].unique()"
      ],
      "metadata": {
        "colab": {
          "base_uri": "https://localhost:8080/"
        },
        "id": "6t912sf3CGkf",
        "outputId": "7d8a1363-d63c-4921-e25d-50cc087a88ed"
      },
      "execution_count": null,
      "outputs": [
        {
          "output_type": "execute_result",
          "data": {
            "text/plain": [
              "array([  1,  41, 117,  48, 156, 180, 216])"
            ]
          },
          "metadata": {},
          "execution_count": 26
        }
      ]
    },
    {
      "cell_type": "markdown",
      "source": [
        "4.-Se determinó que dichas columnas no eran de utilidad debido a que no contenían datos únicos, eran repetidos o simplemente no eran de significancia, por lo que a continuación se borran las variables que no tienen utilidad por que no queremos que hagan ruido en el análisis posterior, ni consuman recursos de manera innecesaria. "
      ],
      "metadata": {
        "id": "_PJ1KvlJR5l_"
      }
    },
    {
      "cell_type": "code",
      "source": [
        "df.drop(['CREATEDBY', 'DELETESTATUS', 'BRANCHID', 'COMPANYID', 'MODIFIEDDATETIME', 'MODIFIEDBY'], axis = 1, inplace = True)"
      ],
      "metadata": {
        "id": "7wY_2-i-CTCW"
      },
      "execution_count": null,
      "outputs": []
    },
    {
      "cell_type": "markdown",
      "source": [
        "5.-A continuación realizamos un diagrama de cajas y bigotes para entender la dispersión y la concentración de datos en la variable de \"PTAXID\"."
      ],
      "metadata": {
        "id": "qcr2DU_BSSVd"
      }
    },
    {
      "cell_type": "code",
      "source": [
        "df['PTAXID'].plot.box(figsize = (4,4), rot = 90)"
      ],
      "metadata": {
        "colab": {
          "base_uri": "https://localhost:8080/",
          "height": 308
        },
        "id": "v-e-TpBc8TXc",
        "outputId": "7ba0ec7d-db8b-404e-d904-cd71b8ee64b1"
      },
      "execution_count": null,
      "outputs": [
        {
          "output_type": "execute_result",
          "data": {
            "text/plain": [
              "<matplotlib.axes._subplots.AxesSubplot at 0x7f771fbb1d10>"
            ]
          },
          "metadata": {},
          "execution_count": 32
        },
        {
          "output_type": "display_data",
          "data": {
            "text/plain": [
              "<Figure size 288x288 with 1 Axes>"
            ],
            "image/png": "[encoded data removed]"
          },
          "metadata": {}
        }
      ]
    },
    {
      "cell_type": "markdown",
      "source": [
        "Observamos que existen múltiples datos atípicos pero el rango principal oscila entre las 800 y 3000 unidades."
      ],
      "metadata": {
        "id": "ZLEM7NIrShNJ"
      }
    },
    {
      "cell_type": "code",
      "source": [
        "df['VAT'].plot.box(figsize = (4,4), rot = 90)"
      ],
      "metadata": {
        "colab": {
          "base_uri": "https://localhost:8080/",
          "height": 294
        },
        "id": "-oSQdZ1rEMs-",
        "outputId": "5fb64cb2-0c81-4d11-e9b3-f09bd86da055"
      },
      "execution_count": null,
      "outputs": [
        {
          "output_type": "execute_result",
          "data": {
            "text/plain": [
              "<matplotlib.axes._subplots.AxesSubplot at 0x7f771f9c6f90>"
            ]
          },
          "metadata": {},
          "execution_count": 34
        },
        {
          "output_type": "display_data",
          "data": {
            "text/plain": [
              "<Figure size 288x288 with 1 Axes>"
            ],
            "image/png": "[encoded data removed]"
          },
          "metadata": {}
        }
      ]
    },
    {
      "cell_type": "markdown",
      "source": [
        "De igual manera aquí observamos mayor cantidad de outliers, indicándonos un poco la naturaleza de la variable \"VAT\"."
      ],
      "metadata": {
        "id": "Q4BLF-EKSoPS"
      }
    },
    {
      "cell_type": "code",
      "source": [
        "df['INCOMETAX'].plot.box(figsize = (4,4), rot = 90)"
      ],
      "metadata": {
        "colab": {
          "base_uri": "https://localhost:8080/",
          "height": 332
        },
        "id": "FKWlGljrEYVF",
        "outputId": "81a32ac2-0bb4-473e-d908-61aecbf36229"
      },
      "execution_count": null,
      "outputs": [
        {
          "output_type": "execute_result",
          "data": {
            "text/plain": [
              "<matplotlib.axes._subplots.AxesSubplot at 0x7f771f9c3d10>"
            ]
          },
          "metadata": {},
          "execution_count": 35
        },
        {
          "output_type": "display_data",
          "data": {
            "text/plain": [
              "<Figure size 288x288 with 1 Axes>"
            ],
            "image/png": "[encoded data removed]"
          },
          "metadata": {}
        }
      ]
    },
    {
      "cell_type": "markdown",
      "source": [
        "Para finalizar observamos en la variable \"Income Tax\" todavía una mayor cantidad de outliers, por lo que concluímos que dichas (3)variables presentan una gran cantidad de datos fuera del rango y podrían hacer ruido en el analisis de composición, debido a que no tienen un rango similiar ni un rango intra-variable definido para establecer patrones, conexión o una correlación entre ellas. "
      ],
      "metadata": {
        "id": "9bu1uEMaEkcm"
      }
    },
    {
      "cell_type": "markdown",
      "source": [
        "Continuando decidimos generar un HeatMap para entender la correlación existente entre las variables, para poder observar de manera instantena si existen dichos patrones de comportamiento que puedan deberse a otras variables. "
      ],
      "metadata": {
        "id": "SrZzh4BZTLdc"
      }
    },
    {
      "cell_type": "code",
      "source": [
        "plt.figure(figsize=(12, 8))\n",
        "sns.heatmap(df.corr(), annot = True, cmap= 'viridis_r')\n",
        "plt.title('Correlation Map')"
      ],
      "metadata": {
        "colab": {
          "base_uri": "https://localhost:8080/",
          "height": 516
        },
        "id": "XVKEyi208-tk",
        "outputId": "1374026e-b037-4c53-fadb-30a34263fc3c"
      },
      "execution_count": null,
      "outputs": [
        {
          "output_type": "execute_result",
          "data": {
            "text/plain": [
              "Text(0.5, 1.0, 'Correlation Map')"
            ]
          },
          "metadata": {},
          "execution_count": 36
        },
        {
          "output_type": "display_data",
          "data": {
            "text/plain": [
              "<Figure size 864x576 with 2 Axes>"
            ],
            "image/png": "[encoded data removed]"
          },
          "metadata": {}
        }
      ]
    },
    {
      "cell_type": "markdown",
      "source": [
        "A manera de conclusión podemos afirmar que no hay correlaciones de significancia entre las variables restantes, debido principalmente a como lo anlaizamos de manera previa: Sus rangos no coinciden y tampoco se encuentran entre rangos definidos que pudieran aportar a una correlación ni positiva ni negativa. Las variables que más se acercan sin ser un resultado vinculante serían las de PTAXID con el CLIENTID y viceversa, siendo el único grupo de variables que al ser ID's tienen relación parcial de 0.3 debido al programa de asignación de códigos por cliente que los relaciona ligeramente con los de los clientes. "
      ],
      "metadata": {
        "id": "JiC_3BANTZkN"
      }
    }
  ]
}